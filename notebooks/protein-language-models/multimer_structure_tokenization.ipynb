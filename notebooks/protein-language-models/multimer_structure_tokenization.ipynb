{
 "cells": [
  {
   "cell_type": "markdown",
   "id": "75db19d5-76f1-4362-87ba-5efd77d2f27d",
   "metadata": {},
   "source": [
    "# Multimerize inputs for antibody chains"
   ]
  },
  {
   "cell_type": "code",
   "execution_count": 7,
   "id": "a5257b23-09f8-4c92-bd51-8347c84ba5fc",
   "metadata": {
    "tags": []
   },
   "outputs": [],
   "source": [
    "import torch\n",
    "import numpy as np\n",
    "from esm.utils.structure.protein_chain import ProteinChain  # defined in esm/utils/structure/protein_chain.py  [oai_citation:0‡code2prompt.txt](file-service://file-7M2YDUiM8jAcYqSemot19N)\n",
    "from esm.tokenization.sequence_tokenizer import EsmSequenceTokenizer"
   ]
  },
  {
   "cell_type": "code",
   "execution_count": 8,
   "id": "66cddf1b-f1b3-47c5-a23d-a486da77d67f",
   "metadata": {
    "tags": []
   },
   "outputs": [
    {
     "data": {
      "text/plain": [
       "'|'"
      ]
     },
     "execution_count": 8,
     "metadata": {},
     "output_type": "execute_result"
    }
   ],
   "source": [
    "from esm.utils.constants.esm3 import CHAIN_BREAK_STR  # chain break \n",
    "CHAIN_BREAK_STR"
   ]
  },
  {
   "cell_type": "code",
   "execution_count": 21,
   "id": "9cf9a772-b8a1-483e-af19-c53bf5648983",
   "metadata": {
    "tags": []
   },
   "outputs": [
    {
     "name": "stdout",
     "output_type": "stream",
     "text": [
      "ProteinChain(id='1BEY', sequence='Q', chain_id='H', entity_id=1, residue_index=array([1]), insertion_code=array([''], dtype='<U4'), atom37_positions=array([[[ 7.929, 79.104, 42.518],\n",
      "        [ 6.897, 79.705, 43.426],\n",
      "        [ 7.205, 79.372, 44.891],\n",
      "        [ 5.522, 79.118, 43.088],\n",
      "        [ 7.862, 80.138, 45.612],\n",
      "        [ 4.342, 79.998, 43.419],\n",
      "        [   nan,    nan,    nan],\n",
      "        [   nan,    nan,    nan],\n",
      "        [   nan,    nan,    nan],\n",
      "        [   nan,    nan,    nan],\n",
      "        [   nan,    nan,    nan],\n",
      "        [ 4.18 , 81.089, 42.389],\n",
      "        [   nan,    nan,    nan],\n",
      "        [   nan,    nan,    nan],\n",
      "        [   nan,    nan,    nan],\n",
      "        [   nan,    nan,    nan],\n",
      "        [   nan,    nan,    nan],\n",
      "        [   nan,    nan,    nan],\n",
      "        [   nan,    nan,    nan],\n",
      "        [   nan,    nan,    nan],\n",
      "        [   nan,    nan,    nan],\n",
      "        [   nan,    nan,    nan],\n",
      "        [   nan,    nan,    nan],\n",
      "        [   nan,    nan,    nan],\n",
      "        [   nan,    nan,    nan],\n",
      "        [ 3.033, 81.103, 41.714],\n",
      "        [ 5.081, 81.904, 42.187],\n",
      "        [   nan,    nan,    nan],\n",
      "        [   nan,    nan,    nan],\n",
      "        [   nan,    nan,    nan],\n",
      "        [   nan,    nan,    nan],\n",
      "        [   nan,    nan,    nan],\n",
      "        [   nan,    nan,    nan],\n",
      "        [   nan,    nan,    nan],\n",
      "        [   nan,    nan,    nan],\n",
      "        [   nan,    nan,    nan],\n",
      "        [   nan,    nan,    nan]]], dtype=float32), atom37_mask=array([[ True,  True,  True,  True,  True,  True, False, False, False,\n",
      "        False, False,  True, False, False, False, False, False, False,\n",
      "        False, False, False, False, False, False, False,  True,  True,\n",
      "        False, False, False, False, False, False, False, False, False,\n",
      "        False]]), confidence=array([1.], dtype=float32))\n"
     ]
    }
   ],
   "source": [
    "protein_chain_H = ProteinChain.from_pdb(path=fpath, chain_id='H')  # loads heavy chain\n",
    "protein_chain_L = ProteinChain.from_pdb(path=fpath, chain_id='L')  # loads light chain\n",
    "print(protein_chain_H[0])"
   ]
  },
  {
   "cell_type": "code",
   "execution_count": 13,
   "id": "121ea9dd-aa4c-4d09-a31b-08ff11004ccb",
   "metadata": {
    "tags": []
   },
   "outputs": [
    {
     "name": "stdout",
     "output_type": "stream",
     "text": [
      "(210, 37, 3) (214, 37, 3)\n"
     ]
    }
   ],
   "source": [
    "# Extract atom37 representations (assumed to be available as an attribute)\n",
    "# Each will be a numpy array of shape (num_residues, 37, 3)\n",
    "atom37_H = protein_chain_H.atom37_positions  # e.g. shape (L_H, 37, 3)\n",
    "atom37_L = protein_chain_L.atom37_positions  # e.g. shape (L_L, 37, 3)\n",
    "print(atom37_H.shape, atom37_L.shape)"
   ]
  },
  {
   "cell_type": "markdown",
   "id": "bdce0e8e-0715-4dd3-a8aa-8fdace4eb8d3",
   "metadata": {},
   "source": [
    "----\n",
    "Dan, we need to define a chain break row and then concat"
   ]
  },
  {
   "cell_type": "code",
   "execution_count": 22,
   "id": "08f6672e-b6d9-4237-bb59-21342588098e",
   "metadata": {
    "tags": []
   },
   "outputs": [],
   "source": [
    "chain_break_atom37 = np.full((1, 37, 3), np.inf, dtype=np.float32)  # shape (1, 37, 3) defining an inf vector\n",
    "\n",
    "# Concatenate the heavy and light chain atom37 representations with a chain break in between.\n",
    "atom37_multimer = np.concatenate([atom37_H, chain_break_atom37, atom37_L], axis=0)"
   ]
  },
  {
   "cell_type": "code",
   "execution_count": 57,
   "id": "0415a758-bcf6-4575-aa88-c00d36cca081",
   "metadata": {
    "tags": []
   },
   "outputs": [
    {
     "name": "stdout",
     "output_type": "stream",
     "text": [
      "(425, 37, 3)\n",
      "425\n"
     ]
    },
    {
     "data": {
      "text/plain": [
       "425"
      ]
     },
     "execution_count": 57,
     "metadata": {},
     "output_type": "execute_result"
    }
   ],
   "source": [
    "# unit test\n",
    "print(atom37_multimer.shape)\n",
    "print(atom37_H.shape[0]+atom37_L.shape[0]+1)"
   ]
  },
  {
   "cell_type": "code",
   "execution_count": 35,
   "id": "c252cc2f-0f9f-42f5-b35c-d8e92e8b2a4d",
   "metadata": {
    "tags": []
   },
   "outputs": [],
   "source": [
    "atom37_multimer_tensor = torch.tensor(atom37_multimer, dtype=torch.float32, device='cpu')"
   ]
  },
  {
   "cell_type": "code",
   "execution_count": 58,
   "id": "1a824c6e-3716-4bb5-a710-dddd40cabd7a",
   "metadata": {
    "tags": []
   },
   "outputs": [
    {
     "name": "stdout",
     "output_type": "stream",
     "text": [
      "425\n"
     ]
    }
   ],
   "source": [
    "# Next, for the sequence input, we want to concatenate the sequences from both chains.\n",
    "# We assume that each ProteinChain object has a 'sequence' attribute (a string).\n",
    "seq_H = protein_chain_H.sequence  # heavy chain sequence (e.g., \"EVQLVESGGGLVQPGGSLRLSCAAS...\")\n",
    "seq_L = protein_chain_L.sequence  # light chain sequence (e.g., \"DIQMTQSPSSLSASVGDRVTITCRAS...\")\n",
    "# Insert the chain break marker between the sequences.\n",
    "multimer_sequence = seq_H + '|' + seq_L  # chain break inserted between sequences\n",
    "\n",
    "print(len(list(protein_chain_H.sequence))+len(list(protein_chain_L.sequence))+1) # test"
   ]
  },
  {
   "cell_type": "code",
   "execution_count": 65,
   "id": "7e8e9e0f-5d57-47cc-bbf0-a4c8f63f9de3",
   "metadata": {
    "tags": []
   },
   "outputs": [
    {
     "data": {
      "text/plain": [
       "425"
      ]
     },
     "execution_count": 65,
     "metadata": {},
     "output_type": "execute_result"
    }
   ],
   "source": [
    "len(multimer_sequence)"
   ]
  },
  {
   "cell_type": "code",
   "execution_count": 70,
   "id": "8974c764-0549-4e78-b8ea-2b2c79c44866",
   "metadata": {
    "tags": []
   },
   "outputs": [
    {
     "name": "stdout",
     "output_type": "stream",
     "text": [
      "Multimer sequence: QVQLQESGPGLVRPSQTLSLTCTVSGFTFTDFYMNWVRQPPGRGLEWIGFIRDKAKGYTTEYNPSVKGRVTMLVDTSKNQFSLRLSSVTAADTAVYYCAREGHTAAPFDYWGQGSLVTVSSASTKGPSVFPLAPAALGCLVKDYFPEPVTVSWNSGALTSGVHTFPAVLQSSGLYSLSSVVTVPSSSLGTQTYICNVNHKPSNTKVDKKV|DIQMTQSPSSLSASVGDRVTITCKASQNIDKYLNWYQQKPGKAPKLLIYNTNNLQTGVPSRFSGSGSGTDFTFTISSLQPEDIATYYCLQHISRPRTFGQGTKVEIKRTVAAPSVFIFPPSDEQLKSGTASVVCLLNNFYPREAKVQWKVDNALQSGNSQESVTEQDSKDSTYSLSSTLTLSKADYEKHKVYACEVTHQGLSSPVTKSFNRGEC\n",
      "427\n",
      "<cls> Q V Q L Q E S G P G L V R P S Q T L S L T C T V S G F T F T D F Y M N W V R Q P P G R G L E W I G F I R D K A K G Y T T E Y N P S V K G R V T M L V D T S K N Q F S L R L S S V T A A D T A V Y Y C A R E G H T A A P F D Y W G Q G S L V T V S S A S T K G P S V F P L A P A A L G C L V K D Y F P E P V T V S W N S G A L T S G V H T F P A V L Q S S G L Y S L S S V V T V P S S S L G T Q T Y I C N V N H K P S N T K V D K K V | D I Q M T Q S P S S L S A S V G D R V T I T C K A S Q N I D K Y L N W Y Q Q K P G K A P K L L I Y N T N N L Q T G V P S R F S G S G S G T D F T F T I S S L Q P E D I A T Y Y C L Q H I S R P R T F G Q G T K V E I K R T V A A P S V F I F P P S D E Q L K S G T A S V V C L L N N F Y P R E A K V Q W K V D N A L Q S G N S Q E S V T E Q D S K D S T Y S L S S T L T L S K A D Y E K H K V Y A C E V T H Q G L S S P V T K S F N R G E C <eos>\n",
      "{'.': 29, 'Y': 19, 'G': 6, 'K': 15, 'D': 13, '<pad>': 1, 'H': 21, '<mask>': 32, 'O': 28, '|': 31, 'T': 11, 'M': 20, 'F': 18, '-': 30, 'L': 4, 'S': 8, '<eos>': 2, 'E': 9, 'W': 22, 'B': 25, 'Q': 16, '<unk>': 3, 'V': 7, 'A': 5, 'Z': 27, 'N': 17, 'P': 14, 'I': 12, 'R': 10, 'C': 23, 'U': 26, '<cls>': 0, 'X': 24}\n"
     ]
    }
   ],
   "source": [
    "print(\"Multimer sequence:\", multimer_sequence)\n",
    "\n",
    "# Now load the ESM sequence tokenizer and encode the multimer sequence.\n",
    "seq_tokenizer = EsmSequenceTokenizer()  # ensure this is imported from esm.tokenization.sequence_tokenizer\n",
    "seq_tokens = seq_tokenizer.encode(multimer_sequence)  # encode the concatenated sequence\n",
    "print(len(seq_tokens))\n",
    "print(seq_tokenizer.decode(seq_tokens))\n",
    "print(seq_tokenizer.get_vocab())\n",
    "# + 2 extra tokens for the special tokens"
   ]
  },
  {
   "cell_type": "code",
   "execution_count": 64,
   "id": "003c5ef3-f76d-44b9-8844-e4995ff720d9",
   "metadata": {
    "tags": []
   },
   "outputs": [
    {
     "name": "stdout",
     "output_type": "stream",
     "text": [
      "Multimer sequence: QVQLQESGPGLVRPSQTLSLTCTVSGFTFTDFYMNWVRQPPGRGLEWIGFIRDKAKGYTTEYNPSVKGRVTMLVDTSKNQFSLRLSSVTAADTAVYYCAREGHTAAPFDYWGQGSLVTVSSASTKGPSVFPLAPAALGCLVKDYFPEPVTVSWNSGALTSGVHTFPAVLQSSGLYSLSSVVTVPSSSLGTQTYICNVNHKPSNTKVDKKV|DIQMTQSPSSLSASVGDRVTITCKASQNIDKYLNWYQQKPGKAPKLLIYNTNNLQTGVPSRFSGSGSGTDFTFTISSLQPEDIATYYCLQHISRPRTFGQGTKVEIKRTVAAPSVFIFPPSDEQLKSGTASVVCLLNNFYPREAKVQWKVDNALQSGNSQESVTEQDSKDSTYSLSSTLTLSKADYEKHKVYACEVTHQGLSSPVTKSFNRGEC\n"
     ]
    },
    {
     "data": {
      "text/plain": [
       "torch.Size([1, 427])"
      ]
     },
     "execution_count": 64,
     "metadata": {},
     "output_type": "execute_result"
    }
   ],
   "source": [
    "seq_tokens_tensor = torch.tensor(seq_tokens, dtype=torch.int64).unsqueeze(0).to('cpu')  # shape (1, seq_len)\n",
    "seq_tokens_tensor.shape"
   ]
  },
  {
   "cell_type": "code",
   "execution_count": 36,
   "id": "1d4df9da-b6af-4a0d-b87b-8d8289dff66a",
   "metadata": {
    "tags": []
   },
   "outputs": [
    {
     "name": "stdout",
     "output_type": "stream",
     "text": [
      "Multimer sequence: QVQLQESGPGLVRPSQTLSLTCTVSGFTFTDFYMNWVRQPPGRGLEWIGFIRDKAKGYTTEYNPSVKGRVTMLVDTSKNQFSLRLSSVTAADTAVYYCAREGHTAAPFDYWGQGSLVTVSSASTKGPSVFPLAPAALGCLVKDYFPEPVTVSWNSGALTSGVHTFPAVLQSSGLYSLSSVVTVPSSSLGTQTYICNVNHKPSNTKVDKKV|DIQMTQSPSSLSASVGDRVTITCKASQNIDKYLNWYQQKPGKAPKLLIYNTNNLQTGVPSRFSGSGSGTDFTFTISSLQPEDIATYYCLQHISRPRTFGQGTKVEIKRTVAAPSVFIFPPSDEQLKSGTASVVCLLNNFYPREAKVQWKVDNALQSGNSQESVTEQDSKDSTYSLSSTLTLSKADYEKHKVYACEVTHQGLSSPVTKSFNRGEC\n",
      "Atom37 multimer tensor shape: torch.Size([425, 37, 3])\n",
      "Sequence tokens tensor shape: torch.Size([1, 427])\n"
     ]
    }
   ],
   "source": [
    "# Print the shapes of the final representations\n",
    "print(\"Atom37 multimer tensor shape:\", atom37_multimer_tensor.shape)\n",
    "print(\"Sequence tokens tensor shape:\", seq_tokens_tensor.shape)\n",
    "\n",
    "# Dan, the next step would be to feed both the atom37_multimer_tensor and the seq_tokens_tensor into ESM3,\n",
    "# which will then combine these modalities for further processing."
   ]
  },
  {
   "cell_type": "code",
   "execution_count": 3,
   "id": "7537aecb-f7a4-443f-b5b2-3965f8530e2e",
   "metadata": {
    "tags": []
   },
   "outputs": [
    {
     "data": {
      "text/plain": [
       "esm.utils.structure.protein_chain.ProteinChain"
      ]
     },
     "execution_count": 3,
     "metadata": {},
     "output_type": "execute_result"
    }
   ],
   "source": [
    "type(protein_chain_H)"
   ]
  },
  {
   "cell_type": "code",
   "execution_count": null,
   "id": "a500919f-ebf4-4d0d-81dc-d4e70b12bbf2",
   "metadata": {},
   "outputs": [],
   "source": []
  }
 ],
 "metadata": {
  "environment": {
   "kernel": "conda-env-pytorch-pytorch",
   "name": "workbench-notebooks.m127",
   "type": "gcloud",
   "uri": "us-docker.pkg.dev/deeplearning-platform-release/gcr.io/workbench-notebooks:m127"
  },
  "kernelspec": {
   "display_name": "PyTorch 1-13 (Local)",
   "language": "python",
   "name": "conda-env-pytorch-pytorch"
  },
  "language_info": {
   "codemirror_mode": {
    "name": "ipython",
    "version": 3
   },
   "file_extension": ".py",
   "mimetype": "text/x-python",
   "name": "python",
   "nbconvert_exporter": "python",
   "pygments_lexer": "ipython3",
   "version": "3.10.16"
  }
 },
 "nbformat": 4,
 "nbformat_minor": 5
}
