{
 "cells": [
  {
   "cell_type": "code",
   "execution_count": 1,
   "id": "9a80c850-2b5b-4bf2-8bdf-b09c604ee5d3",
   "metadata": {},
   "outputs": [
    {
     "name": "stdout",
     "output_type": "stream",
     "text": [
      "Train DataFrame shape: (79999, 27)\n",
      "Test DataFrame shape: (14000, 27)\n"
     ]
    }
   ],
   "source": [
    "import pandas as pd\n",
    "\n",
    "# File paths for the contrastive training and test datasets.\n",
    "train_path = \"/Volumes/LaCie_d2_Professional_Media/hyperbind/contrastive_output/contrastive_train.csv\"\n",
    "test_path = \"/Volumes/LaCie_d2_Professional_Media/hyperbind/contrastive_output/contrastive_test.csv\"\n",
    "val_path = \"/Volumes/LaCie_d2_Professional_Media/hyperbind/contrastive_output/contrastive_val.csv\"\n",
    "\n",
    "# Read the CSV files into DataFrames.\n",
    "train_df = pd.read_csv(train_path)\n",
    "test_df = pd.read_csv(test_path)\n",
    "\n",
    "print(\"Train DataFrame shape:\", train_df.shape)\n",
    "print(\"Test DataFrame shape:\", test_df.shape)"
   ]
  },
  {
   "cell_type": "code",
   "execution_count": 3,
   "id": "b85eb4c2-d6ef-48b6-870e-45ed474843ee",
   "metadata": {},
   "outputs": [
    {
     "name": "stdout",
     "output_type": "stream",
     "text": [
      "Train pair_type distribution:\n",
      "pair_type\n",
      "positive    59999\n",
      "negative    20000\n",
      "Name: count, dtype: int64\n",
      "Train composite distribution 1:\n",
      "composite\n",
      "4M7L_T_500kNonMascotte      8828\n",
      "3SO3_A_500kNonMascotte      8730\n",
      "3NFP_I_500kNonMascotte      8723\n",
      "3NFP_I_LooserExclusive      7361\n",
      "3SO3_A_LooserExclusive      7224\n",
      "4M7L_T_LooserExclusive      7174\n",
      "3NFP_I_MascotteExclusive    5610\n",
      "3SO3_A_MascotteExclusive    5602\n",
      "4M7L_T_MascotteExclusive    5564\n",
      "3NFP_I_HeroesExclusive      5067\n",
      "4M7L_T_HeroesExclusive      5058\n",
      "3SO3_A_HeroesExclusive      5058\n",
      "Name: count, dtype: int64\n",
      "Train composite distribution 2:\n",
      "composite\n",
      "4M7L_T_500kNonMascotte      8782\n",
      "3NFP_I_500kNonMascotte      8724\n",
      "3SO3_A_500kNonMascotte      8723\n",
      "3SO3_A_LooserExclusive      7355\n",
      "3NFP_I_LooserExclusive      7354\n",
      "4M7L_T_LooserExclusive      7180\n",
      "3SO3_A_MascotteExclusive    5608\n",
      "4M7L_T_MascotteExclusive    5565\n",
      "3NFP_I_MascotteExclusive    5546\n",
      "3NFP_I_HeroesExclusive      5059\n",
      "3SO3_A_HeroesExclusive      5053\n",
      "4M7L_T_HeroesExclusive      5050\n",
      "Name: count, dtype: int64\n"
     ]
    }
   ],
   "source": [
    "# Innspect the postiive to negative pairing class balance\n",
    "print(\"Train pair_type distribution:\")\n",
    "print(train_df[\"pair_type\"].value_counts())\n",
    "\n",
    "# Inspect the composite label class balance\n",
    "train_df[\"composite\"] = train_df[\"antigen_1\"] + \"_\" + train_df[\"binding_class_1\"]\n",
    "print(\"Train composite distribution 1:\")\n",
    "print(train_df[\"composite\"].value_counts())\n",
    "\n",
    "train_df[\"composite\"] = train_df[\"antigen_2\"] + \"_\" + train_df[\"binding_class_2\"]\n",
    "print(\"Train composite distribution 2:\")\n",
    "print(train_df[\"composite\"].value_counts())"
   ]
  },
  {
   "cell_type": "code",
   "execution_count": null,
   "id": "2876bd52-fcb3-4095-9399-6723e001f514",
   "metadata": {},
   "outputs": [],
   "source": []
  }
 ],
 "metadata": {
  "kernelspec": {
   "display_name": "Python 3 (ipykernel)",
   "language": "python",
   "name": "python3"
  },
  "language_info": {
   "codemirror_mode": {
    "name": "ipython",
    "version": 3
   },
   "file_extension": ".py",
   "mimetype": "text/x-python",
   "name": "python",
   "nbconvert_exporter": "python",
   "pygments_lexer": "ipython3",
   "version": "3.10.13"
  }
 },
 "nbformat": 4,
 "nbformat_minor": 5
}
