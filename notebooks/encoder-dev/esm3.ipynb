{
 "cells": [
  {
   "cell_type": "code",
   "execution_count": 1,
   "id": "6c3da75c-ff0f-4419-9b47-179af72ac600",
   "metadata": {},
   "outputs": [],
   "source": [
    "from huggingface_hub import login\n",
    "from esm.models.esm3 import ESM3\n",
    "from esm.sdk.api import ESM3InferenceClient, ESMProtein, GenerationConfig"
   ]
  },
  {
   "cell_type": "code",
   "execution_count": 2,
   "id": "0bd8cf05-128f-4468-8f6d-f7f8d6132e7a",
   "metadata": {},
   "outputs": [
    {
     "data": {
      "application/vnd.jupyter.widget-view+json": {
       "model_id": "1239ad1bc84642d08ea06c84075681a1",
       "version_major": 2,
       "version_minor": 0
      },
      "text/plain": [
       "VBox(children=(HTML(value='<center> <img\\nsrc=https://huggingface.co/front/assets/huggingface_logo-noborder.sv…"
      ]
     },
     "metadata": {},
     "output_type": "display_data"
    }
   ],
   "source": [
    "# Will instruct you how to get an API key from huggingface hub, make one with \"Read\" permission.\n",
    "login()"
   ]
  },
  {
   "cell_type": "code",
   "execution_count": 4,
   "id": "9fc96108-97c4-4478-bcd6-9f5420de326d",
   "metadata": {},
   "outputs": [
    {
     "data": {
      "application/vnd.jupyter.widget-view+json": {
       "model_id": "1a56191a31d34a4cb697b1c296d9aa40",
       "version_major": 2,
       "version_minor": 0
      },
      "text/plain": [
       "Fetching 22 files:   0%|          | 0/22 [00:00<?, ?it/s]"
      ]
     },
     "metadata": {},
     "output_type": "display_data"
    },
    {
     "data": {
      "application/vnd.jupyter.widget-view+json": {
       "model_id": "1503ee81a63a4d2fbffa0f147504cf39",
       "version_major": 2,
       "version_minor": 0
      },
      "text/plain": [
       ".gitattributes:   0%|          | 0.00/1.52k [00:00<?, ?B/s]"
      ]
     },
     "metadata": {},
     "output_type": "display_data"
    },
    {
     "data": {
      "application/vnd.jupyter.widget-view+json": {
       "model_id": "cac06acc89f74b019d54173613c8a7a2",
       "version_major": 2,
       "version_minor": 0
      },
      "text/plain": [
       "data/1utn.pdb:   0%|          | 0.00/569k [00:00<?, ?B/s]"
      ]
     },
     "metadata": {},
     "output_type": "display_data"
    },
    {
     "data": {
      "application/vnd.jupyter.widget-view+json": {
       "model_id": "e33e4952f61a41c3b3fd12ec331d6f99",
       "version_major": 2,
       "version_minor": 0
      },
      "text/plain": [
       "data/esm3_entry.list:   0%|          | 0.00/1.93M [00:00<?, ?B/s]"
      ]
     },
     "metadata": {},
     "output_type": "display_data"
    },
    {
     "data": {
      "application/vnd.jupyter.widget-view+json": {
       "model_id": "6a4a3bb5942647e7b846223b8746ebfc",
       "version_major": 2,
       "version_minor": 0
      },
      "text/plain": [
       "config.json:   0%|          | 0.00/3.00 [00:00<?, ?B/s]"
      ]
     },
     "metadata": {},
     "output_type": "display_data"
    },
    {
     "data": {
      "application/vnd.jupyter.widget-view+json": {
       "model_id": "5a00437110234866884c65eef0068580",
       "version_major": 2,
       "version_minor": 0
      },
      "text/plain": [
       "data/entry_list_safety_29026.list:   0%|          | 0.00/1.60M [00:00<?, ?B/s]"
      ]
     },
     "metadata": {},
     "output_type": "display_data"
    },
    {
     "data": {
      "application/vnd.jupyter.widget-view+json": {
       "model_id": "22c8ed70381748e99b87538098ba58af",
       "version_major": 2,
       "version_minor": 0
      },
      "text/plain": [
       "data/ParentChildTreeFile.txt:   0%|          | 0.00/595k [00:00<?, ?B/s]"
      ]
     },
     "metadata": {},
     "output_type": "display_data"
    },
    {
     "data": {
      "application/vnd.jupyter.widget-view+json": {
       "model_id": "334866d438504f0ea1458b75f3103aeb",
       "version_major": 2,
       "version_minor": 0
      },
      "text/plain": [
       "(…)ata/interpro_29026_to_keywords_58641.csv:   0%|          | 0.00/10.1M [00:00<?, ?B/s]"
      ]
     },
     "metadata": {},
     "output_type": "display_data"
    },
    {
     "data": {
      "application/vnd.jupyter.widget-view+json": {
       "model_id": "b358b821adca44c79a3e7f5b6c754ff5",
       "version_major": 2,
       "version_minor": 0
      },
      "text/plain": [
       "hyperplanes_8bit_58641.npz:   0%|          | 0.00/30.0M [00:00<?, ?B/s]"
      ]
     },
     "metadata": {},
     "output_type": "display_data"
    },
    {
     "data": {
      "application/vnd.jupyter.widget-view+json": {
       "model_id": "72b5113ae8714fc9b8ca93f5f226d13d",
       "version_major": 2,
       "version_minor": 0
      },
      "text/plain": [
       "hyperplanes_8bit_68103.npz:   0%|          | 0.00/34.9M [00:00<?, ?B/s]"
      ]
     },
     "metadata": {},
     "output_type": "display_data"
    },
    {
     "data": {
      "application/vnd.jupyter.widget-view+json": {
       "model_id": "f3d3fc3150c04a56be3aa17ade823e9b",
       "version_major": 2,
       "version_minor": 0
      },
      "text/plain": [
       "data/interpro2keywords.csv:   0%|          | 0.00/7.32M [00:00<?, ?B/s]"
      ]
     },
     "metadata": {},
     "output_type": "display_data"
    },
    {
     "data": {
      "application/vnd.jupyter.widget-view+json": {
       "model_id": "d3f6e952d44c4e8183b3d0ccf023a48b",
       "version_major": 2,
       "version_minor": 0
      },
      "text/plain": [
       "data/keywords.txt:   0%|          | 0.00/788k [00:00<?, ?B/s]"
      ]
     },
     "metadata": {},
     "output_type": "display_data"
    },
    {
     "data": {
      "application/vnd.jupyter.widget-view+json": {
       "model_id": "b00852d1849f47e5bae24c2006df02e1",
       "version_major": 2,
       "version_minor": 0
      },
      "text/plain": [
       "(…)ord_vocabulary_safety_filtered_58641.txt:   0%|          | 0.00/788k [00:00<?, ?B/s]"
      ]
     },
     "metadata": {},
     "output_type": "display_data"
    },
    {
     "data": {
      "application/vnd.jupyter.widget-view+json": {
       "model_id": "52bbe6315c8740e28a26a37f2e434f7f",
       "version_major": 2,
       "version_minor": 0
      },
      "text/plain": [
       "data/tag_dict_4.json:   0%|          | 0.00/691k [00:00<?, ?B/s]"
      ]
     },
     "metadata": {},
     "output_type": "display_data"
    },
    {
     "data": {
      "application/vnd.jupyter.widget-view+json": {
       "model_id": "610796ddf7b84c00988a46e13887f8d6",
       "version_major": 2,
       "version_minor": 0
      },
      "text/plain": [
       "data/tag_dict_4_safety_filtered.json:   0%|          | 0.00/569k [00:00<?, ?B/s]"
      ]
     },
     "metadata": {},
     "output_type": "display_data"
    },
    {
     "data": {
      "application/vnd.jupyter.widget-view+json": {
       "model_id": "385795672fa14516add1d57e070d4186",
       "version_major": 2,
       "version_minor": 0
      },
      "text/plain": [
       "(…)0_residue_annotations_gt_1k_proteins.csv:   0%|          | 0.00/109k [00:00<?, ?B/s]"
      ]
     },
     "metadata": {},
     "output_type": "display_data"
    },
    {
     "data": {
      "application/vnd.jupyter.widget-view+json": {
       "model_id": "adb8be10149945f0affa5e644b3ea4ce",
       "version_major": 2,
       "version_minor": 0
      },
      "text/plain": [
       "tfidf_safety_filtered_58641.pkl:   0%|          | 0.00/2.02M [00:00<?, ?B/s]"
      ]
     },
     "metadata": {},
     "output_type": "display_data"
    },
    {
     "data": {
      "application/vnd.jupyter.widget-view+json": {
       "model_id": "f2da67ea25e04840bda8d7441417358e",
       "version_major": 2,
       "version_minor": 0
      },
      "text/plain": [
       "esm3_function_decoder_v0.pth:   0%|          | 0.00/1.30G [00:00<?, ?B/s]"
      ]
     },
     "metadata": {},
     "output_type": "display_data"
    },
    {
     "data": {
      "application/vnd.jupyter.widget-view+json": {
       "model_id": "8fbf8c5cd5ef415fa5bdbd0c64dc7222",
       "version_major": 2,
       "version_minor": 0
      },
      "text/plain": [
       "esm3_sm_open_v1.pth:   0%|          | 0.00/2.80G [00:00<?, ?B/s]"
      ]
     },
     "metadata": {},
     "output_type": "display_data"
    },
    {
     "data": {
      "application/vnd.jupyter.widget-view+json": {
       "model_id": "8f083887b98341c7a8b08a476ac0b357",
       "version_major": 2,
       "version_minor": 0
      },
      "text/plain": [
       "keyword_idf_safety_filtered_58641.npy:   0%|          | 0.00/469k [00:00<?, ?B/s]"
      ]
     },
     "metadata": {},
     "output_type": "display_data"
    },
    {
     "data": {
      "application/vnd.jupyter.widget-view+json": {
       "model_id": "7652986b4d0f4dafaedc3523ae8d8a3b",
       "version_major": 2,
       "version_minor": 0
      },
      "text/plain": [
       "esm3_structure_decoder_v0.pth:   0%|          | 0.00/1.24G [00:00<?, ?B/s]"
      ]
     },
     "metadata": {},
     "output_type": "display_data"
    },
    {
     "data": {
      "application/vnd.jupyter.widget-view+json": {
       "model_id": "455fa911193f4667a596ec02a06d4015",
       "version_major": 2,
       "version_minor": 0
      },
      "text/plain": [
       "esm3_structure_encoder_v0.pth:   0%|          | 0.00/62.3M [00:00<?, ?B/s]"
      ]
     },
     "metadata": {},
     "output_type": "display_data"
    }
   ],
   "source": [
    "# This will download the model weights and instantiate the model on your machine.\n",
    "model: ESM3InferenceClient = ESM3.from_pretrained(\"esm3-open\").to(\"cuda\") # or \"cpu\""
   ]
  },
  {
   "cell_type": "code",
   "execution_count": 18,
   "id": "a1648068-7046-4ed7-ba81-78e6f0b50416",
   "metadata": {},
   "outputs": [],
   "source": [
    "# Generate a completion for a partial Carbonic Anhydrase (2vvb)\n",
    "\n",
    "prompt = \"EVQLVESGGGLVQPGGSLRLSCAASGFNIKDTYIHWVRQAPGKGLEWVARIYPTNGYTRYADSVKGRFTISADTSKNTAYLQMNSLRAEDTAVYYCS__G__GF_AMDYWGQGTLVTVSSGGGGSGGGGSGGGGSDIQMTQSPSSLSASVGDRVTITCRASQDVNTAVAWYQQKPGKAPKLLIYSASFLYSGVPSRFSGSRSGTDFTLTISSLQPEDFATYYCQ____TPPTFGQGTKVEIK\"\n",
    "prompt = \"EVQLVESGGGLVQPGGSLRLSCAASGFNIKDTYIHWVRQAPGKGLEWVARIYPTNGYTRYADSVKGRFTISADTSKNTAYLQMNSLRAEDTAVYYCS__G__GF_AMDYWGQGTLVTVSS\"\n",
    "\n",
    "protein = ESMProtein(sequence=prompt)"
   ]
  },
  {
   "cell_type": "code",
   "execution_count": 19,
   "id": "8edf05d6-e42e-464e-926e-2da2f22705ca",
   "metadata": {},
   "outputs": [
    {
     "name": "stderr",
     "output_type": "stream",
     "text": [
      "100%|██████████| 5/5 [00:00<00:00, 14.03it/s]\n"
     ]
    }
   ],
   "source": [
    "# Generate the sequence, then the structure. This will iteratively unmask the sequence track.\n",
    "protein = model.generate(protein, GenerationConfig(track=\"sequence\", num_steps=8, temperature=0.7))"
   ]
  },
  {
   "cell_type": "code",
   "execution_count": 20,
   "id": "8833d4c2-59fe-4024-8a3b-db2b5f12d089",
   "metadata": {
    "tags": []
   },
   "outputs": [
    {
     "data": {
      "text/plain": [
       "ESMProtein(sequence='EVQLVESGGGLVQPGGSLRLSCAASGFNIKDTYIHWVRQAPGKGLEWVARIYPTNGYTRYADSVKGRFTISADTSKNTAYLQMNSLRAEDTAVYYCSRGGGSGFYAMDYWGQGTLVTVSS', secondary_structure=None, sasa=None, function_annotations=None, coordinates=None, plddt=None, ptm=None, potential_sequence_of_concern=False)"
      ]
     },
     "execution_count": 20,
     "metadata": {},
     "output_type": "execute_result"
    }
   ],
   "source": [
    "protein"
   ]
  },
  {
   "cell_type": "code",
   "execution_count": 21,
   "id": "24d211e2-860d-4166-8052-12578cf5c279",
   "metadata": {},
   "outputs": [
    {
     "name": "stderr",
     "output_type": "stream",
     "text": [
      "100%|██████████| 8/8 [00:00<00:00, 13.70it/s]\n"
     ]
    }
   ],
   "source": [
    "# We can show the predicted structure for the generated sequence.\n",
    "protein = model.generate(protein, GenerationConfig(track=\"structure\", num_steps=8))\n",
    "protein.to_pdb(\"./generation.pdb\")"
   ]
  },
  {
   "cell_type": "code",
   "execution_count": 23,
   "id": "be7f6dbf-bd36-4bad-a124-3be8b79b7749",
   "metadata": {},
   "outputs": [],
   "source": [
    "# Then we can do a round trip design by inverse folding the sequence and recomputing the structure\n",
    "protein.sequence = None"
   ]
  },
  {
   "cell_type": "code",
   "execution_count": 26,
   "id": "b364ee5c-938c-4135-8b5e-d850c285239a",
   "metadata": {},
   "outputs": [
    {
     "name": "stderr",
     "output_type": "stream",
     "text": [
      "100%|██████████| 8/8 [00:00<00:00, 14.08it/s]\n"
     ]
    }
   ],
   "source": [
    "protein = model.generate(protein, GenerationConfig(track=\"sequence\", num_steps=8))"
   ]
  },
  {
   "cell_type": "code",
   "execution_count": 27,
   "id": "b6265074-d2a2-47c1-a97a-38ecb7e66b55",
   "metadata": {
    "tags": []
   },
   "outputs": [
    {
     "data": {
      "text/plain": [
       "ESMProtein(sequence='EVQLEESGGGLVQPGGSLRLSCATSGFNINFTAMWWVRQAPGKGLEFVAEIYPNHGSTYYADSVKGRFTISRDNAKNIVYLQMVSLRAEDTAMYYCARQRDDSRNAMDYWGQGTQVTVSS', secondary_structure=None, sasa=None, function_annotations=None, coordinates=tensor([[[-17.2286,   5.3398,  12.3902],\n",
       "         [-15.8789,   5.8861,  12.2956],\n",
       "         [-14.9296,   4.8935,  11.6328],\n",
       "         ...,\n",
       "         [     inf,      inf,      inf],\n",
       "         [     inf,      inf,      inf],\n",
       "         [     inf,      inf,      inf]],\n",
       "\n",
       "        [[-14.1443,   5.2068,  10.7684],\n",
       "         [-13.2509,   4.2935,  10.0636],\n",
       "         [-12.0404,   3.9385,  10.9207],\n",
       "         ...,\n",
       "         [     inf,      inf,      inf],\n",
       "         [     inf,      inf,      inf],\n",
       "         [     inf,      inf,      inf]],\n",
       "\n",
       "        [[-11.7442,   2.6444,  10.8501],\n",
       "         [-10.5726,   2.1767,  11.5834],\n",
       "         [ -9.7014,   1.2783,  10.7117],\n",
       "         ...,\n",
       "         [     inf,      inf,      inf],\n",
       "         [     inf,      inf,      inf],\n",
       "         [     inf,      inf,      inf]],\n",
       "\n",
       "        ...,\n",
       "\n",
       "        [[ 15.5924,  -3.5825,   6.0697],\n",
       "         [ 16.4001,  -4.6693,   5.5259],\n",
       "         [ 17.8817,  -4.4494,   5.8131],\n",
       "         ...,\n",
       "         [     inf,      inf,      inf],\n",
       "         [     inf,      inf,      inf],\n",
       "         [     inf,      inf,      inf]],\n",
       "\n",
       "        [[ 18.3405,  -5.0463,   6.7128],\n",
       "         [ 19.7239,  -4.8691,   7.1415],\n",
       "         [ 20.2538,  -6.1273,   7.8214],\n",
       "         ...,\n",
       "         [     inf,      inf,      inf],\n",
       "         [     inf,      inf,      inf],\n",
       "         [     inf,      inf,      inf]],\n",
       "\n",
       "        [[ 21.6883,  -6.1948,   7.9708],\n",
       "         [ 22.2708,  -7.3861,   8.5794],\n",
       "         [ 21.9486,  -7.4557,  10.0685],\n",
       "         ...,\n",
       "         [     inf,      inf,      inf],\n",
       "         [     inf,      inf,      inf],\n",
       "         [     inf,      inf,      inf]]]), plddt=tensor([0.9333, 0.9439, 0.9682, 0.9742, 0.9786, 0.9799, 0.9787, 0.9768, 0.9777,\n",
       "        0.9798, 0.9812, 0.9836, 0.9825, 0.9817, 0.9803, 0.9835, 0.9846, 0.9847,\n",
       "        0.9864, 0.9853, 0.9860, 0.9834, 0.9826, 0.9797, 0.9732, 0.9658, 0.9659,\n",
       "        0.9670, 0.9715, 0.9718, 0.9611, 0.9715, 0.9732, 0.9820, 0.9800, 0.9841,\n",
       "        0.9829, 0.9835, 0.9832, 0.9799, 0.9637, 0.9646, 0.9701, 0.9757, 0.9754,\n",
       "        0.9804, 0.9779, 0.9833, 0.9821, 0.9799, 0.9810, 0.9762, 0.9760, 0.9665,\n",
       "        0.9640, 0.9646, 0.9732, 0.9792, 0.9767, 0.9820, 0.9815, 0.9793, 0.9763,\n",
       "        0.9806, 0.9727, 0.9710, 0.9797, 0.9845, 0.9848, 0.9844, 0.9828, 0.9840,\n",
       "        0.9816, 0.9787, 0.9754, 0.9782, 0.9823, 0.9848, 0.9847, 0.9866, 0.9861,\n",
       "        0.9862, 0.9855, 0.9820, 0.9807, 0.9838, 0.9828, 0.9801, 0.9779, 0.9835,\n",
       "        0.9843, 0.9849, 0.9849, 0.9857, 0.9840, 0.9822, 0.9801, 0.9744, 0.9665,\n",
       "        0.9482, 0.9290, 0.9313, 0.9270, 0.8999, 0.9218, 0.9462, 0.9588, 0.9530,\n",
       "        0.9652, 0.9725, 0.9724, 0.9732, 0.9779, 0.9817, 0.9828, 0.9821, 0.9805,\n",
       "        0.9789, 0.9636, 0.9226]), ptm=tensor([0.8702], device='cuda:0'), potential_sequence_of_concern=False)"
      ]
     },
     "execution_count": 27,
     "metadata": {},
     "output_type": "execute_result"
    }
   ],
   "source": [
    "protein"
   ]
  },
  {
   "cell_type": "code",
   "execution_count": 17,
   "id": "4c2eeacf-f950-4293-9321-58bcf7b4c450",
   "metadata": {},
   "outputs": [
    {
     "name": "stderr",
     "output_type": "stream",
     "text": [
      "100%|██████████| 8/8 [00:00<00:00, 13.98it/s]\n",
      "100%|██████████| 8/8 [00:00<00:00, 13.97it/s]\n"
     ]
    }
   ],
   "source": [
    "protein.coordinates = None\n",
    "protein = model.generate(protein, GenerationConfig(track=\"structure\", num_steps=8))\n",
    "protein.to_pdb(\"./round_tripped.pdb\")"
   ]
  },
  {
   "cell_type": "code",
   "execution_count": null,
   "id": "23706a7c-36f6-47ac-ac6c-2225f52074ed",
   "metadata": {},
   "outputs": [],
   "source": []
  }
 ],
 "metadata": {
  "environment": {
   "kernel": "conda-env-pytorch-pytorch",
   "name": "workbench-notebooks.m127",
   "type": "gcloud",
   "uri": "us-docker.pkg.dev/deeplearning-platform-release/gcr.io/workbench-notebooks:m127"
  },
  "kernelspec": {
   "display_name": "PyTorch 1-13",
   "language": "python",
   "name": "conda-env-pytorch-pytorch"
  },
  "language_info": {
   "codemirror_mode": {
    "name": "ipython",
    "version": 3
   },
   "file_extension": ".py",
   "mimetype": "text/x-python",
   "name": "python",
   "nbconvert_exporter": "python",
   "pygments_lexer": "ipython3",
   "version": "3.10.16"
  }
 },
 "nbformat": 4,
 "nbformat_minor": 5
}
